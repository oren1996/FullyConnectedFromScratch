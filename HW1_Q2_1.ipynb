{
 "cells": [
  {
   "cell_type": "code",
   "execution_count": 1,
   "id": "f1a46d33",
   "metadata": {},
   "outputs": [],
   "source": [
    "import torch\n",
    "import torchvision.datasets as dsets\n",
    "import numpy as np\n",
    "import time\n",
    "\n",
    "# Hyper Parameters\n",
    "layerDimensions = [784, 128, 64, 10]\n",
    "num_epochs = 5\n",
    "batch_size = 100\n",
    "learningRate = 0.01\n",
    "numberOfLabels = 10\n",
    "\n",
    "# MNIST Dataset\n",
    "train_dataset = dsets.MNIST(root='./data/',\n",
    "                            train=True,\n",
    "                            download=True)\n",
    "\n",
    "test_dataset = dsets.MNIST(root='./data/',\n",
    "                           train=False,\n",
    "                           download=True)\n",
    "\n",
    "# Data Loader (Input Pipeline)\n",
    "train_loader = torch.utils.data.DataLoader(dataset=train_dataset,\n",
    "                                           batch_size=batch_size,\n",
    "                                           shuffle=True)\n",
    "\n",
    "test_loader = torch.utils.data.DataLoader(dataset=test_dataset,\n",
    "                                          batch_size=batch_size,\n",
    "                                          shuffle=False)\n",
    "\n",
    "\n",
    "# We have 5 epochs of 100 of pictures each one\n",
    "# and each picture's size is 28x28"
   ]
  },
  {
   "cell_type": "code",
   "execution_count": 2,
   "id": "e0916fc2",
   "metadata": {},
   "outputs": [],
   "source": [
    "class NN():\n",
    "    ### Initialize the neural network\n",
    "    def __init__(self, layerDimensions, epochs, learningRate):\n",
    "        self.accuracy = []\n",
    "        self.layerDimensions = layerDimensions\n",
    "        self.epochs = epochs\n",
    "        self.learningRate = learningRate\n",
    "        self.parameters = {}\n",
    "\n",
    "        ### Initializes randoms weights and biases parameters\n",
    "        L = len(layerDimensions)\n",
    "        for i in range(1, L):\n",
    "            self.parameters['W' + str(i)] = np.random.randn(layerDimensions[i], layerDimensions[i - 1]) * np.sqrt(1.0 / layerDimensions[i])\n",
    "        #  parameters['b' + str(i)] = np.zeros((layerDimensions[i], 1))\n",
    "\n",
    "    ### Activations functions\n",
    "    # 1: Sigmoid Function and his derivative\n",
    "    def sigmoid(self, Z):\n",
    "        return (np.exp(np.dot(-1, Z))) / ((np.exp(np.dot(-1, Z)) + 1) ** 2)\n",
    "\n",
    "    def sigmoidDerivative(self, Z):\n",
    "        return 1 / (1 + np.exp(np.dot(-1, Z)))\n",
    "        \n",
    "    # 2: Relu function and his derivative\n",
    "    def relu(self, Z):\n",
    "        temp = []\n",
    "        for i in Z:\n",
    "            temp.append(max(i, 0))\n",
    "        return np.array(temp)\n",
    "    \n",
    "    def reluDerivative(self, Z):\n",
    "        temp = []\n",
    "        for i in Z:\n",
    "            if i > 0:\n",
    "                temp.append(1)\n",
    "            else:\n",
    "                temp.append(0)\n",
    "        return np.array(temp)\n",
    "\n",
    "    # 3: Softmax function and his derivative\n",
    "    def softmax(self, Z):\n",
    "        exps = np.exp(Z - Z.max())\n",
    "        return exps / np.sum(exps, axis=0)\n",
    "        \n",
    "    def softmaxDerivative(self, Z):\n",
    "        exps = np.exp(Z - Z.max())\n",
    "        return exps / np.sum(exps, axis=0) * (1 - exps / np.sum(exps, axis=0))\n",
    "\n",
    "\n",
    "    ### Forward propagation\n",
    "    def forwardP(self, X_train):\n",
    "        # Calculate parameters for input layer\n",
    "        self.parameters['A0'] = X_train\n",
    "        \n",
    "        # Calculate parameters for hidden layer 1\n",
    "        self.parameters['Z1'] = np.dot(self.parameters[\"W1\"], self.parameters['A0'])\n",
    "        self.parameters['A1'] = self.relu(self.parameters['Z1'])\n",
    "        \n",
    "        # Calculate parameters for hidden layer 2\n",
    "        self.parameters['Z2'] = np.dot(self.parameters[\"W2\"], self.parameters['A1'])\n",
    "        self.parameters['A2'] = self.relu(self.parameters['Z2'])\n",
    "        \n",
    "        # Calculate parameters for hidden layer 3\n",
    "        self.parameters['Z3'] = np.dot(self.parameters[\"W3\"], self.parameters['A2'])\n",
    "        self.parameters['A3'] = self.softmax(self.parameters['Z3'])\n",
    "        return self.parameters['A3']\n",
    "\n",
    "    ### Backward propagation\n",
    "    def backwardP(self, labels, y_predict): \n",
    "        changed_w = {}\n",
    "\n",
    "        # Calculate W3 update\n",
    "        # loss function: MST\n",
    "        numberOfLabels = y_predict.shape[0]\n",
    "        dMst = 2 * (y_predict - labels) / numberOfLabels\n",
    "        error = dMst * self.softmaxDerivative(self.parameters['Z3'])\n",
    "        changed_w['W3'] = np.outer(error, self.parameters['A2'])\n",
    "\n",
    "        # Calculate W2 update\n",
    "        error = np.dot(self.parameters['W3'].T, error) * self.reluDerivative(self.parameters['Z2'])\n",
    "        changed_w['W2'] = np.outer(error, self.parameters['A1'])\n",
    "\n",
    "        # Calculate W1 update\n",
    "        error = np.dot(self.parameters['W2'].T, error) * self.reluDerivative(self.parameters['Z1'])\n",
    "        changed_w['W1'] = np.outer(error, self.parameters['A0'])\n",
    "\n",
    "        return changed_w\n",
    "\n",
    "    ### Update parameters\n",
    "    def update_parameters(self, gradients):\n",
    "        for key, value in gradients.items():\n",
    "            self.parameters[key] -= self.learningRate * value\n",
    "            \n",
    "\n",
    "    ### Train the data\n",
    "    def train(self, train_list, test_list, numberOfLabels):\n",
    "        counter = 0\n",
    "        start_time = time.time()\n",
    "        for iteration in range(self.epochs):\n",
    "            for x in train_list:\n",
    "                X_train, y_train = x\n",
    "                # scale and shift the inputs\n",
    "                inputs = (np.asfarray(X_train) / 255.0 * 0.99) + 0.01\n",
    "                # create the target output values (all 0.01, except the desired label which is 0.99)\n",
    "                labels = np.zeros(numberOfLabels) + 0.01\n",
    "                labels[int(y_train)] = 0.99\n",
    "                # np.array(inputs).flatten() = X_train\n",
    "                y_predict = self.forwardP(np.array(inputs).flatten())\n",
    "                gradients = self.backwardP(labels, y_predict)\n",
    "                self.update_parameters(gradients)\n",
    "\n",
    "            accuracy = self.compute_accuracy(test_list, numberOfLabels)\n",
    "            self.accuracy.append(accuracy)\n",
    "            print('Epoch: {0}, Time Spent: {1:.2f}s, Accuracy: {2:.2f}%'.format(iteration + 1, time.time() - start_time,\n",
    "                                                                                accuracy * 100))\n",
    "\n",
    "    ### Compute accuracy\n",
    "    def compute_accuracy(self, test_data, numberOfLabels):\n",
    "        predictions = []\n",
    "        for x in test_data:\n",
    "            # scale and shift the inputs\n",
    "            X_test, y_test = x\n",
    "            inputs = (np.asfarray(X_test) / 255.0 * 0.99) + 0.01\n",
    "            # create the target output values (all 0.01, except the desired label which is 0.99)\n",
    "            labels = np.zeros(numberOfLabels) + 0.01\n",
    "            labels[int(y_test)] = 0.99\n",
    "            # np.array(inputs).flatten() = X_train\n",
    "            y_predict = self.forwardP(np.array(inputs).flatten())\n",
    "            pred = np.argmax(y_predict)\n",
    "            predictions.append(pred == np.argmax(labels))\n",
    "        return np.mean(predictions)\n"
   ]
  },
  {
   "cell_type": "code",
   "execution_count": 3,
   "id": "48c169c5",
   "metadata": {
    "scrolled": true
   },
   "outputs": [
    {
     "name": "stdout",
     "output_type": "stream",
     "text": [
      "Epoch: 1, Time Spent: 49.51s, Accuracy: 89.50%\n",
      "Epoch: 2, Time Spent: 100.60s, Accuracy: 92.24%\n",
      "Epoch: 3, Time Spent: 150.87s, Accuracy: 93.46%\n",
      "Epoch: 4, Time Spent: 204.69s, Accuracy: 94.23%\n",
      "Epoch: 5, Time Spent: 257.84s, Accuracy: 94.81%\n"
     ]
    }
   ],
   "source": [
    "nn = NN(layerDimensions, num_epochs, learningRate)\n",
    "nn.train(train_dataset, test_dataset, numberOfLabels)"
   ]
  },
  {
   "cell_type": "code",
   "execution_count": 4,
   "id": "20cf3efb",
   "metadata": {},
   "outputs": [
    {
     "name": "stdout",
     "output_type": "stream",
     "text": [
      "Epoch: 1, Time Spent: 68.88s, Accuracy: 90.39%\n",
      "Epoch: 2, Time Spent: 131.17s, Accuracy: 92.87%\n",
      "Epoch: 3, Time Spent: 193.10s, Accuracy: 94.13%\n",
      "Epoch: 4, Time Spent: 253.54s, Accuracy: 95.03%\n",
      "Epoch: 5, Time Spent: 314.26s, Accuracy: 95.59%\n"
     ]
    }
   ],
   "source": [
    "nn_train = NN(layerDimensions, num_epochs, learningRate)\n",
    "nn_train.train(train_dataset, train_dataset, numberOfLabels)"
   ]
  },
  {
   "cell_type": "code",
   "execution_count": 5,
   "id": "ec7a6ac0",
   "metadata": {},
   "outputs": [],
   "source": [
    "# import pickle\n",
    "# pickle.dump(nn,open('model_q1.pkl','wb'))"
   ]
  },
  {
   "cell_type": "code",
   "execution_count": 6,
   "id": "c88d405b",
   "metadata": {},
   "outputs": [
    {
     "data": {
      "image/png": "[encoded data removed]",
      "text/plain": [
       "<Figure size 576x432 with 1 Axes>"
      ]
     },
     "metadata": {
      "needs_background": "light"
     },
     "output_type": "display_data"
    }
   ],
   "source": [
    "# code for the plots:\n",
    "import matplotlib.pyplot as plt\n",
    "\n",
    "plt.figure(figsize=(8,6))\n",
    "plt.plot(range(5), nn.accuracy, c='red')\n",
    "plt.xlabel('epochs')\n",
    "plt.ylabel('accuracy')\n",
    "\n",
    "plt.plot(range(5), nn_train.accuracy, c='blue')\n",
    "plt.xlabel('epochs')\n",
    "plt.ylabel('accuracy')\n",
    "\n",
    "plt.legend(['test', 'train'])\n",
    "\n",
    "plt.show()"
   ]
  },
  {
   "cell_type": "code",
   "execution_count": null,
   "id": "61f2fdd3",
   "metadata": {},
   "outputs": [],
   "source": []
  }
 ],
 "metadata": {
  "kernelspec": {
   "display_name": "Python 3",
   "language": "python",
   "name": "python3"
  },
  "language_info": {
   "codemirror_mode": {
    "name": "ipython",
    "version": 3
   },
   "file_extension": ".py",
   "mimetype": "text/x-python",
   "name": "python",
   "nbconvert_exporter": "python",
   "pygments_lexer": "ipython3",
   "version": "3.8.8"
  }
 },
 "nbformat": 4,
 "nbformat_minor": 5
}
