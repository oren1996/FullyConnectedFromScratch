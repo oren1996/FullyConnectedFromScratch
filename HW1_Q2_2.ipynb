{
 "cells": [
  {
   "cell_type": "code",
   "execution_count": 1,
   "id": "6f6f4f83",
   "metadata": {
    "scrolled": false
   },
   "outputs": [],
   "source": [
    "import torch \n",
    "import torch.nn as nn\n",
    "import torchvision.datasets as dsets\n",
    "import torchvision.transforms as transforms\n",
    "import numpy as np\n",
    "\n",
    "# Hyper Parameters\n",
    "layerDimensions = [784, 128, 64, 2]\n",
    "num_epochs = 20\n",
    "batch_size = 128\n",
    "learningRate = 0.01\n",
    "numberOfLabels = 2\n",
    "sample_size = 128\n",
    "\n",
    "# Image Preprocessing \n",
    "transform = transforms.Compose([\n",
    "    transforms.ToTensor()])\n",
    "#    ,transforms.Normalize((0.4914, 0.4822, 0.4465),\n",
    "#                          (0.247, 0.2434, 0.2615)),])\n",
    "\n",
    "# MNIST Dataset\n",
    "train_dataset = dsets.MNIST(root='./data/',\n",
    "                            train=True,\n",
    "                            download=True,\n",
    "                            transform=transform)\n",
    "\n",
    "\n",
    "test_dataset = dsets.MNIST(root='./data/',\n",
    "                           train=False,\n",
    "                           download=True,\n",
    "                           transform=transform)\n",
    "\n",
    "#train_subset = torch.utils.data.Subset(train_dataset, np.arange(sample_size))\n",
    "train_subset = (train_dataset.data.clone().detach())[:128]\n",
    "\n",
    "# Data Loader (Input Pipeline)\n",
    "train_loader = torch.utils.data.DataLoader(dataset=train_subset,\n",
    "                                           batch_size=batch_size,\n",
    "                                           shuffle=False)\n",
    "\n",
    "test_loader = torch.utils.data.DataLoader(dataset=test_dataset,\n",
    "                                          batch_size=10000,\n",
    "                                          shuffle=False)\n",
    "\n"
   ]
  },
  {
   "cell_type": "code",
   "execution_count": 2,
   "id": "752e683f",
   "metadata": {},
   "outputs": [],
   "source": [
    "class NN():\n",
    "    ### Initialize the neural network\n",
    "    def __init__(self, layerDimensions, epochs, learningRate):\n",
    "        self.accuracy = []\n",
    "        self.layerDimensions = layerDimensions\n",
    "        self.epochs = epochs\n",
    "        self.learningRate = learningRate\n",
    "        self.parameters = {}\n",
    "        self.mean_loss_train = []\n",
    "        self.mean_loss_test = []\n",
    "        ### Initializes randoms weights and biases parameters\n",
    "        L = len(layerDimensions)\n",
    "        for i in range(1, L):\n",
    "            self.parameters['W' + str(i)] = np.random.randn(layerDimensions[i], layerDimensions[i - 1]) * np.sqrt(1.0 / layerDimensions[i])\n",
    "\n",
    "            \n",
    "    ### Activations functions\n",
    "    # 1: Sigmoid Function and his derivative\n",
    "    def sigmoid(self, Z):\n",
    "        return (np.exp(np.dot(-1, Z))) / ((np.exp(np.dot(-1, Z)) + 1) ** 2)\n",
    "\n",
    "    def sigmoidDerivative(self, Z):\n",
    "        return 1 / (1 + np.exp(np.dot(-1, Z)))\n",
    "        \n",
    "    # 2: Relu function and his derivative\n",
    "    def relu(self, Z):\n",
    "        temp = []\n",
    "        for i in Z:\n",
    "            temp.append(max(i, 0))\n",
    "        return np.array(temp)\n",
    "    \n",
    "    def reluDerivative(self, Z):\n",
    "        temp = []\n",
    "        for i in Z:\n",
    "            if i > 0:\n",
    "                temp.append(1)\n",
    "            else:\n",
    "                temp.append(0)\n",
    "        return np.array(temp)\n",
    "\n",
    "    # 3: Softmax function and his derivative\n",
    "    def softmax(self, Z):\n",
    "        exps = np.exp(Z - Z.max())\n",
    "        return exps / np.sum(exps, axis=0)\n",
    "        \n",
    "    def softmaxDerivative(self, Z):\n",
    "        exps = np.exp(Z - Z.max())\n",
    "        return exps / np.sum(exps, axis=0) * (1 - exps / np.sum(exps, axis=0))\n",
    "\n",
    "    ### Forward propagation\n",
    "    def forwardP(self, X_train):\n",
    "        # Calculate parameters for input layer\n",
    "        self.parameters['A0'] = X_train\n",
    "        \n",
    "        # Calculate parameters for hidden layer 1\n",
    "        self.parameters['Z1'] = np.dot(self.parameters[\"W1\"], self.parameters['A0'])\n",
    "        self.parameters['A1'] = self.relu(self.parameters['Z1'])\n",
    "        \n",
    "        # Calculate parameters for hidden layer 2\n",
    "        self.parameters['Z2'] = np.dot(self.parameters[\"W2\"], self.parameters['A1'])\n",
    "        self.parameters['A2'] = self.relu(self.parameters['Z2'])\n",
    "        \n",
    "        # Calculate parameters for hidden layer 3\n",
    "        self.parameters['Z3'] = np.dot(self.parameters[\"W3\"], self.parameters['A2'])\n",
    "        self.parameters['A3'] = self.softmax(self.parameters['Z3'])\n",
    "        return self.parameters['A3']\n",
    "\n",
    "    \n",
    "    ### Backward propagation\n",
    "    def backwardP(self, labels, y_predict): \n",
    "        changed_w = {}\n",
    "        \n",
    "        # Calculate W3 update\n",
    "        # loss function: Binary Cross Entropy Function\n",
    "        #numberOfLabels = y_predict.shape[0]\n",
    "        #dMst = 2 * (y_predict - y_train) / numberOfLabels\n",
    "        \n",
    "        dBce = -labels/y_predict + (1-labels)/(1-y_predict)\n",
    "        error = dBce * self.softmaxDerivative(self.parameters['Z3'])\n",
    "        changed_w['W3'] = np.outer(error, self.parameters['A2'])\n",
    "\n",
    "        # Calculate W2 update\n",
    "        error = np.dot(self.parameters['W3'].T, error) * self.reluDerivative(self.parameters['Z2'])\n",
    "        changed_w['W2'] = np.outer(error, self.parameters['A1'])\n",
    "\n",
    "        # Calculate W1 update\n",
    "        error = np.dot(self.parameters['W2'].T, error) * self.reluDerivative(self.parameters['Z1'])\n",
    "        changed_w['W1'] = np.outer(error, self.parameters['A0'])\n",
    "\n",
    "        return changed_w\n",
    "\n",
    "    ### Update parameters\n",
    "    def update_parameters(self, gradients):\n",
    "        for key, value in gradients.items():\n",
    "            self.parameters[key] -= self.learningRate * value\n",
    "            \n",
    "\n",
    "    \n",
    "    def crossEntropy(self, y_true, y_pred):\n",
    "        n = len(y_true)\n",
    "        summ = 0\n",
    "        for i in range(n):\n",
    "            summ += (y_true[i]*np.log(y_pred[i])) + (1-y_true[i])*(np.log(1-y_pred[i]))\n",
    "        loss = -summ/n\n",
    "        return loss\n",
    "\n",
    "\n",
    "    ### Train the data\n",
    "    def train(self, train_list, test_list, arrPropabilityTrain, arrPropabilityTest, numberOfLabels):\n",
    "        for i in range(0,self.epochs):\n",
    "            counter = 0\n",
    "            predictions = []\n",
    "            iteration = i +1\n",
    "            print(f'{iteration}/{self.epochs}')\n",
    "            for x in train_list:\n",
    "                X_train = x\n",
    "                y_train = arrPropabilityTrain[counter]\n",
    "                counter += 1\n",
    "                # scale and shift the inputs\n",
    "                inputs = (np.asfarray(X_train) / 255.0 * 0.99) + 0.01\n",
    "                # create the target output values (all 0.01, except the desired label which is 0.99)\n",
    "                labels = np.zeros(numberOfLabels) + 0.01\n",
    "                labels[int(y_train)] = 0.99\n",
    "                y_predict = self.forwardP(np.array(inputs).flatten())\n",
    "                pred = y_predict[int(y_train)]\n",
    "                predictions.append(pred)\n",
    "                gradients = self.backwardP(labels, y_predict)\n",
    "                self.update_parameters(gradients)\n",
    "            for i in range(len(predictions)):\n",
    "                if int(arrPropabilityTrain[i]) == 0:\n",
    "                    predictions[i] = 1-predictions[i]\n",
    "            loss_train = self.crossEntropy(arrPropabilityTrain, predictions)\n",
    "            self.mean_loss_train.append(loss_train)\n",
    "            loss_test = self.test(test_list,arrPropabilityTest, numberOfLabels)\n",
    "            self.mean_loss_test.append(loss_test)\n",
    "\n",
    "    # def lossConvergence():\n",
    "    #     epochs = self.epochs\n",
    "    #     lossForEpoch = self.mean_loss\n",
    "    #     print(lossForEpoch)\n",
    "\n",
    "    ### Compute accuracy\n",
    "    def test(self, test_data, arrPropabilityTest, numberOfLabels):\n",
    "        counter = 0\n",
    "        predictions = []\n",
    "        for x in test_data:\n",
    "            X_test, temp = x\n",
    "            y_test = arrPropabilityTest[counter]\n",
    "            counter += 1\n",
    "            inputs = (np.asfarray(X_test) / 255.0 * 0.99) + 0.01\n",
    "            # create the target output values (all 0.01, except the desired label which is 0.99)\n",
    "            labels = np.zeros(numberOfLabels) + 0.01\n",
    "            labels[int(y_test)] = 0.99\n",
    "            y_predict = self.forwardP(np.array(inputs).flatten())\n",
    "            pred = y_predict[int(y_test)]\n",
    "            predictions.append(pred)\n",
    "        for i in range(len(predictions)):\n",
    "            if int(arrPropabilityTest[i]) == 0:\n",
    "                predictions[i] = 1 - predictions[i]\n",
    "        loss_test = self.crossEntropy(arrPropabilityTest, predictions)\n",
    "        return loss_test\n",
    "            \n"
   ]
  },
  {
   "cell_type": "code",
   "execution_count": 3,
   "id": "7fb4054e",
   "metadata": {
    "scrolled": false
   },
   "outputs": [],
   "source": [
    "# Create an array of 128 labels binary.\n",
    "# Each entry in the array corresponds to an image in the train_subset\n",
    "bernoulli_arr_train = np.random.binomial(n = 1, p = 0.5, size=sample_size)\n",
    "bernoulli_arr_train_float = np.array(bernoulli_arr_train, dtype=float)\n",
    "bernoulli_arr_test = np.random.binomial(n=1, p =0.5, size=len(test_dataset))\n",
    "bernoulli_arr_test_float = np.array(bernoulli_arr_test, dtype=float)"
   ]
  },
  {
   "cell_type": "code",
   "execution_count": 4,
   "id": "4bf072b5",
   "metadata": {},
   "outputs": [
    {
     "name": "stdout",
     "output_type": "stream",
     "text": [
      "1/20\n",
      "2/20\n",
      "3/20\n",
      "4/20\n",
      "5/20\n",
      "6/20\n",
      "7/20\n",
      "8/20\n",
      "9/20\n",
      "10/20\n",
      "11/20\n",
      "12/20\n",
      "13/20\n",
      "14/20\n",
      "15/20\n",
      "16/20\n",
      "17/20\n",
      "18/20\n",
      "19/20\n",
      "20/20\n"
     ]
    }
   ],
   "source": [
    "nn1 = NN(layerDimensions, num_epochs, learningRate)\n",
    "nn1.train(train_subset, test_dataset, bernoulli_arr_train_float,bernoulli_arr_test_float, numberOfLabels)"
   ]
  },
  {
   "cell_type": "code",
   "execution_count": 5,
   "id": "0eb52e5a",
   "metadata": {
    "scrolled": true
   },
   "outputs": [
    {
     "name": "stdout",
     "output_type": "stream",
     "text": [
      "[1.3064636023084122, 0.574917609062323, 0.39766590206695457, 0.27797734708771665, 0.196286447584235, 0.1522901429356072, 0.11449287142532281, 0.09298655919682385, 0.08050648174659396, 0.06652066655883761, 0.05824130077850176, 0.05348860926273458, 0.048672361262369526, 0.043554118685157614, 0.040270174740866756, 0.0396082892819432, 0.034738515805841905, 0.03171790171427236, 0.029176341463682566, 0.027431944898924573]\n",
      "[0.6933915379103136, 0.6932844139390095, 0.6933239449122333, 0.693231233612712, 0.6932365357627542, 0.6932119513149355, 0.6931609150359065, 0.6931331633802934, 0.6931340110585571, 0.6931249143442351, 0.6931226163421578, 0.6931318371344276, 0.6931270274529606, 0.6931375129704778, 0.693139503512477, 0.6931372552584408, 0.6931381967552663, 0.6931397041398156, 0.6931387939936416, 0.693139475332173]\n"
     ]
    }
   ],
   "source": [
    "print(nn1.mean_loss_train)\n",
    "print(nn1.mean_loss_test)"
   ]
  },
  {
   "cell_type": "code",
   "execution_count": 6,
   "id": "ac1cdf36",
   "metadata": {},
   "outputs": [
    {
     "data": {
      "text/plain": [
       "0.6931792272081394"
      ]
     },
     "execution_count": 6,
     "metadata": {},
     "output_type": "execute_result"
    }
   ],
   "source": [
    "mean_loss_value_test = np.mean(nn1.mean_loss_test)\n",
    "mean_loss_value_test"
   ]
  },
  {
   "cell_type": "code",
   "execution_count": 9,
   "id": "0e3bfeb3",
   "metadata": {},
   "outputs": [],
   "source": [
    "# import pickle\n",
    "# net_and_labels = {'train_labels': bernoulli_arr_train_float, 'test_labels': bernoulli_arr_test_float, 'net':nn1, 'loss':mean_loss_value_test}\n",
    "# pickle.dump(net_and_labels, open('model_q2.pkl','wb'))"
   ]
  },
  {
   "cell_type": "code",
   "execution_count": 8,
   "id": "afb2dc70",
   "metadata": {},
   "outputs": [
    {
     "data": {
      "image/png": "[encoded data removed]",
      "text/plain": [
       "<Figure size 576x432 with 1 Axes>"
      ]
     },
     "metadata": {
      "needs_background": "light"
     },
     "output_type": "display_data"
    }
   ],
   "source": [
    "# code for the plots:\n",
    "import matplotlib.pyplot as plt\n",
    "\n",
    "plt.figure(figsize=(8,6))\n",
    "plt.plot(range(20), nn1.mean_loss_test, c='red')\n",
    "plt.xlabel('epochs')\n",
    "plt.ylabel('loss')\n",
    "\n",
    "plt.plot(range(20), nn1.mean_loss_train, c='blue')\n",
    "plt.xlabel('epochs')\n",
    "plt.ylabel('loss')\n",
    "\n",
    "plt.legend(['test', 'train'])\n",
    "\n",
    "plt.show()"
   ]
  }
 ],
 "metadata": {
  "kernelspec": {
   "display_name": "Python 3",
   "language": "python",
   "name": "python3"
  },
  "language_info": {
   "codemirror_mode": {
    "name": "ipython",
    "version": 3
   },
   "file_extension": ".py",
   "mimetype": "text/x-python",
   "name": "python",
   "nbconvert_exporter": "python",
   "pygments_lexer": "ipython3",
   "version": "3.8.8"
  }
 },
 "nbformat": 4,
 "nbformat_minor": 5
}
